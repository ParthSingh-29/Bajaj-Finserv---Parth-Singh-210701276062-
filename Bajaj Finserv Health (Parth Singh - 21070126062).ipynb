{
 "cells": [
  {
   "cell_type": "code",
   "execution_count": 1,
   "id": "initial_id",
   "metadata": {
    "ExecuteTime": {
     "end_time": "2024-07-19T04:33:40.057892Z",
     "start_time": "2024-07-19T04:33:39.637583Z"
    },
    "collapsed": true
   },
   "outputs": [
    {
     "name": "stdout",
     "output_type": "stream",
     "text": [
      "        _id appointmentId  phoneNumber patientDetails__id  \\\n",
      "0  T6hf3rb5     40d2-9c9f  96686896670          T6hb630b3   \n",
      "1  T65g3rb5      40dbtc9f   9496368916          T6h33b300   \n",
      "2  T7g6Srb5      g3Wt5c9f   7787204833           TjhB4373   \n",
      "3  94bg8W8d      fb6-a535   9376756879            6df4R5b   \n",
      "4  T6h8H56c       67h7KL9   5267384241           lK9hy06a   \n",
      "\n",
      "  patientDetails_firstName patientDetails_lastName patientDetails_emailId  \\\n",
      "0                      Css                                                  \n",
      "1                   Lokesh                                                  \n",
      "2                    Shila                     Das                          \n",
      "3                  Bhavika             Ben Panchal                          \n",
      "4               Raghu Viju                                                  \n",
      "\n",
      "  patientDetails_gender patientDetails_alternateContact  \\\n",
      "0                                                         \n",
      "1                     M                             NaN   \n",
      "2                   NaN                             NaN   \n",
      "3                     F                             NaN   \n",
      "4                   NaN                                   \n",
      "\n",
      "   patientDetails_birthDate  ... consultationData_procedures  \\\n",
      "0                      None  ...                          []   \n",
      "1  1996-05-16T18:30:00.000Z  ...                          []   \n",
      "2                       NaN  ...                          []   \n",
      "3  1988-04-24T14:30:00.000Z  ...                          []   \n",
      "4                       NaN  ...                          []   \n",
      "\n",
      "  consultationData_prognosis consultationData_sharePrescription  \\\n",
      "0                         []                              False   \n",
      "1                         []                              False   \n",
      "2                         []                              False   \n",
      "3                         []                              False   \n",
      "4                         []                              False   \n",
      "\n",
      "  patientDetails_phrId patientDetails_chat__id patientDetails_customId  \\\n",
      "0                  NaN                     NaN                     NaN   \n",
      "1                  NaN                     NaN                     NaN   \n",
      "2         63b5hvy614d5                     NaN                     NaN   \n",
      "3             644nig7y                     NaN                     NaN   \n",
      "4                  NaN                     NaN                     NaN   \n",
      "\n",
      "  patientDetails_chat_channelId consultationData__id  \\\n",
      "0                           NaN                  NaN   \n",
      "1                           NaN                  NaN   \n",
      "2                           NaN                  NaN   \n",
      "3                           NaN                  NaN   \n",
      "4                           NaN                  NaN   \n",
      "\n",
      "  consultationData_updatedAt consultationData_createdAt  \n",
      "0                        NaN                        NaN  \n",
      "1                        NaN                        NaN  \n",
      "2                        NaN                        NaN  \n",
      "3                        NaN                        NaN  \n",
      "4                        NaN                        NaN  \n",
      "\n",
      "[5 rows x 43 columns]\n"
     ]
    }
   ],
   "source": [
    "import pandas as pd\n",
    "import json\n",
    "\n",
    "with open('data.ipynb', 'r') as file:\n",
    "    data = json.load(file)\n",
    "\n",
    "df = pd.json_normalize(data, sep='_')\n",
    "\n",
    "print(df.head())\n"
   ]
  },
  {
   "cell_type": "code",
   "execution_count": 9,
   "id": "135e7731606d6bac",
   "metadata": {
    "ExecuteTime": {
     "end_time": "2024-07-19T04:36:46.106866Z",
     "start_time": "2024-07-19T04:36:46.094011Z"
    },
    "collapsed": false
   },
   "outputs": [
    {
     "name": "stderr",
     "output_type": "stream",
     "text": [
      "/var/folders/bm/gdcfqs196fl9vf7w95gf55k40000gn/T/ipykernel_1809/1403471620.py:15: SettingWithCopyWarning: \n",
      "A value is trying to be set on a copy of a slice from a DataFrame\n",
      "\n",
      "See the caveats in the documentation: https://pandas.pydata.org/pandas-docs/stable/user_guide/indexing.html#returning-a-view-versus-a-copy\n",
      "  patient_data.replace('', pd.NA, inplace=True)\n"
     ]
    },
    {
     "data": {
      "text/plain": [
       "'0.0, 70.97, 32.26'"
      ]
     },
     "execution_count": 9,
     "metadata": {},
     "output_type": "execute_result"
    }
   ],
   "source": [
    "import pandas as pd\n",
    "import json\n",
    "with open('data.ipynb', 'r') as file:\n",
    "    data = json.load(file)\n",
    "\n",
    "df = pd.json_normalize(data, sep='_')\n",
    "\n",
    "patient_data = df[['patientDetails_firstName', 'patientDetails_lastName', 'patientDetails_birthDate']]\n",
    "\n",
    "\n",
    "patient_data.replace('', pd.NA, inplace=True)\n",
    "\n",
    "missing_percentage = patient_data.isna().mean() * 100\n",
    "\n",
    "first_name_missing = round(missing_percentage['patientDetails_firstName'], 2)\n",
    "last_name_missing = round(missing_percentage['patientDetails_lastName'], 2)\n",
    "dob_missing = round(missing_percentage['patientDetails_birthDate'], 2)\n",
    "\n",
    "result = f\"{first_name_missing}, {last_name_missing}, {dob_missing}\"\n",
    "result\n"
   ]
  },
  {
   "cell_type": "code",
   "execution_count": 10,
   "id": "88004baaee312265",
   "metadata": {
    "ExecuteTime": {
     "end_time": "2024-07-19T04:38:33.738660Z",
     "start_time": "2024-07-19T04:38:33.731870Z"
    },
    "collapsed": false
   },
   "outputs": [
    {
     "name": "stderr",
     "output_type": "stream",
     "text": [
      "/var/folders/bm/gdcfqs196fl9vf7w95gf55k40000gn/T/ipykernel_1809/3881381252.py:7: SettingWithCopyWarning: \n",
      "A value is trying to be set on a copy of a slice from a DataFrame\n",
      "\n",
      "See the caveats in the documentation: https://pandas.pydata.org/pandas-docs/stable/user_guide/indexing.html#returning-a-view-versus-a-copy\n",
      "  gender_data.replace('', pd.NA, inplace=True)\n",
      "/var/folders/bm/gdcfqs196fl9vf7w95gf55k40000gn/T/ipykernel_1809/3881381252.py:13: SettingWithCopyWarning: \n",
      "A value is trying to be set on a copy of a slice from a DataFrame\n",
      "\n",
      "See the caveats in the documentation: https://pandas.pydata.org/pandas-docs/stable/user_guide/indexing.html#returning-a-view-versus-a-copy\n",
      "  gender_data['patientDetails_gender'].fillna(mode_gender, inplace=True)\n"
     ]
    },
    {
     "data": {
      "text/plain": [
       "32.26"
      ]
     },
     "execution_count": 10,
     "metadata": {},
     "output_type": "execute_result"
    }
   ],
   "source": [
    "\n",
    "gender_data = df[['patientDetails_gender']]\n",
    "\n",
    "gender_data.replace('', pd.NA, inplace=True)\n",
    "\n",
    "mode_gender = gender_data['patientDetails_gender'].mode()[0]\n",
    "\n",
    "gender_data['patientDetails_gender'].fillna(mode_gender, inplace=True)\n",
    "\n",
    "female_percentage = (gender_data['patientDetails_gender'] == 'F').mean() * 100\n",
    "female_percentage_rounded = round(female_percentage, 2)\n",
    "\n",
    "female_percentage_rounded\n"
   ]
  },
  {
   "cell_type": "code",
   "execution_count": 15,
   "id": "665ebe39e06c698c",
   "metadata": {
    "ExecuteTime": {
     "end_time": "2024-07-19T04:42:52.259379Z",
     "start_time": "2024-07-19T04:42:52.248539Z"
    },
    "collapsed": false
   },
   "outputs": [
    {
     "data": {
      "text/plain": [
       "21"
      ]
     },
     "execution_count": 15,
     "metadata": {},
     "output_type": "execute_result"
    }
   ],
   "source": [
    "current_date = pd.Timestamp.now().normalize()\n",
    "\n",
    "df['patientDetails_birthDate'] = pd.to_datetime(df['patientDetails_birthDate'], errors='coerce').dt.tz_localize(None)\n",
    "\n",
    "df['age'] = (current_date - df['patientDetails_birthDate']).dt.days // 365\n",
    "\n",
    "choices = ['Child', 'Teen', 'Adult', 'Senior']\n",
    "df['ageGroup'] = pd.cut(df['age'], bins=[-1, 12, 19, 59, float('inf')], labels=choices)\n",
    "\n",
    "adult_count = df['ageGroup'].value_counts().get('Adult', 0)\n",
    "adult_count\n",
    "\n"
   ]
  },
  {
   "cell_type": "code",
   "execution_count": 16,
   "id": "499371b9571a7b45",
   "metadata": {
    "ExecuteTime": {
     "end_time": "2024-07-19T04:44:57.408896Z",
     "start_time": "2024-07-19T04:44:57.403880Z"
    },
    "collapsed": false
   },
   "outputs": [
    {
     "data": {
      "text/plain": [
       "2.13"
      ]
     },
     "execution_count": 16,
     "metadata": {},
     "output_type": "execute_result"
    }
   ],
   "source": [
    "df['number_of_medicines'] = df['consultationData_medicines'].apply(lambda x: len(x))\n",
    "\n",
    "average_medicines = df['number_of_medicines'].mean()\n",
    "average_medicines_rounded = round(average_medicines, 2)\n",
    "\n",
    "average_medicines_rounded\n"
   ]
  },
  {
   "cell_type": "code",
   "execution_count": 17,
   "id": "a35d5794d090cd11",
   "metadata": {
    "ExecuteTime": {
     "end_time": "2024-07-19T04:45:06.302317Z",
     "start_time": "2024-07-19T04:45:06.294574Z"
    },
    "collapsed": false
   },
   "outputs": [
    {
     "data": {
      "text/plain": [
       "'C'"
      ]
     },
     "execution_count": 17,
     "metadata": {},
     "output_type": "execute_result"
    }
   ],
   "source": [
    "medicines_data = df[['consultationData_medicines']].explode('consultationData_medicines').reset_index(drop=True)\n",
    "\n",
    "medicines_normalized = pd.json_normalize(medicines_data['consultationData_medicines'])\n",
    "medicines_data = pd.concat([medicines_data.drop(columns=['consultationData_medicines']), medicines_normalized], axis=1)\n",
    "\n",
    "medicine_frequency = medicines_data['medicineName'].value_counts()\n",
    "\n",
    "third_most_frequent_medicine = medicine_frequency.index[2]\n",
    "third_most_frequent_medicine\n"
   ]
  },
  {
   "cell_type": "code",
   "execution_count": 18,
   "id": "1e5af03bfd40abc1",
   "metadata": {
    "ExecuteTime": {
     "end_time": "2024-07-19T04:45:12.527530Z",
     "start_time": "2024-07-19T04:45:12.522777Z"
    },
    "collapsed": false
   },
   "outputs": [
    {
     "data": {
      "text/plain": [
       "'69.7, 30.3'"
      ]
     },
     "execution_count": 18,
     "metadata": {},
     "output_type": "execute_result"
    }
   ],
   "source": [
    "active_inactive_counts = medicines_data['isActive'].value_counts(normalize=True) * 100\n",
    "\n",
    "active_percentage = round(active_inactive_counts[True], 2)\n",
    "inactive_percentage = round(active_inactive_counts[False], 2)\n",
    "\n",
    "result = f\"{active_percentage}, {inactive_percentage}\"\n",
    "result\n"
   ]
  },
  {
   "cell_type": "code",
   "execution_count": 19,
   "id": "98a1722c5e3ed42",
   "metadata": {
    "ExecuteTime": {
     "end_time": "2024-07-19T04:45:19.430560Z",
     "start_time": "2024-07-19T04:45:19.424857Z"
    },
    "collapsed": false
   },
   "outputs": [
    {
     "data": {
      "text/plain": [
       "18"
      ]
     },
     "execution_count": 19,
     "metadata": {},
     "output_type": "execute_result"
    }
   ],
   "source": [
    "def is_valid_indian_phone_number(phone):\n",
    "    if phone.startswith('+91'):\n",
    "        phone = phone[3:]\n",
    "    elif phone.startswith('91'):\n",
    "        phone = phone[2:]\n",
    "\n",
    "    if phone.isdigit() and len(phone) == 10 and 6000000000 <= int(phone) <= 9999999999:\n",
    "        return True\n",
    "    else:\n",
    "        return False\n",
    "df['isValidMobile'] = df['phoneNumber'].apply(is_valid_indian_phone_number)\n",
    "\n",
    "valid_phone_numbers_count = df['isValidMobile'].sum()\n",
    "\n",
    "valid_phone_numbers_count\n"
   ]
  },
  {
   "cell_type": "code",
   "execution_count": 22,
   "id": "23a9d871e42ba9ca",
   "metadata": {
    "ExecuteTime": {
     "end_time": "2024-07-19T04:46:31.771776Z",
     "start_time": "2024-07-19T04:46:31.766267Z"
    },
    "collapsed": false
   },
   "outputs": [
    {
     "data": {
      "text/plain": [
       "-0.22"
      ]
     },
     "execution_count": 22,
     "metadata": {},
     "output_type": "execute_result"
    }
   ],
   "source": [
    "combined_data = pd.concat([df['age'], df['number_of_medicines']], axis=1).dropna()\n",
    "\n",
    "correlation = combined_data.corr(method='pearson').iloc[0, 1]\n",
    "correlation_rounded = round(correlation, 2)\n",
    "\n",
    "correlation_rounded\n"
   ]
  },
  {
   "cell_type": "code",
   "execution_count": null,
   "id": "ecc9576049e3794",
   "metadata": {
    "collapsed": false
   },
   "outputs": [],
   "source": []
  }
 ],
 "metadata": {
  "kernelspec": {
   "display_name": "Python 3.10.6 64-bit",
   "language": "python",
   "name": "python3"
  },
  "language_info": {
   "codemirror_mode": {
    "name": "ipython",
    "version": 2
   },
   "file_extension": ".py",
   "mimetype": "text/x-python",
   "name": "python",
   "nbconvert_exporter": "python",
   "pygments_lexer": "ipython2",
   "version": "3.10.6"
  },
  "vscode": {
   "interpreter": {
    "hash": "27f6fea6f47ae512550f0b8facdbd035a93e1dd89633f7bf2dd00a2502c71d0d"
   }
  }
 },
 "nbformat": 4,
 "nbformat_minor": 5
}
